{
  "nbformat": 4,
  "nbformat_minor": 0,
  "metadata": {
    "colab": {
      "provenance": [],
      "authorship_tag": "ABX9TyMuOiEHFE5hWAIuL7BxKJTA",
      "include_colab_link": true
    },
    "kernelspec": {
      "name": "python3",
      "display_name": "Python 3"
    },
    "language_info": {
      "name": "python"
    }
  },
  "cells": [
    {
      "cell_type": "markdown",
      "metadata": {
        "id": "view-in-github",
        "colab_type": "text"
      },
      "source": [
        "<a href=\"https://colab.research.google.com/github/Samplergithub769/Data-Science-Intern/blob/main/Python_Basic_Day2.ipynb\" target=\"_parent\"><img src=\"https://colab.research.google.com/assets/colab-badge.svg\" alt=\"Open In Colab\"/></a>"
      ]
    },
    {
      "cell_type": "markdown",
      "source": [
        "Python List Methods"
      ],
      "metadata": {
        "id": "sl3XfwMmRXMr"
      }
    },
    {
      "cell_type": "code",
      "execution_count": 143,
      "metadata": {
        "colab": {
          "base_uri": "https://localhost:8080/"
        },
        "id": "-a3NUiQ9KIEr",
        "outputId": "cc1463e9-b385-48f9-cff8-911b92caa6d4"
      },
      "outputs": [
        {
          "output_type": "execute_result",
          "data": {
            "text/plain": [
              "['apple', 'cherry', 'banana']"
            ]
          },
          "metadata": {},
          "execution_count": 143
        }
      ],
      "source": [
        "fruits=['apple','cherry','banana']\n",
        "fruits\n"
      ]
    },
    {
      "cell_type": "code",
      "source": [
        "fruits.append('orange')\n",
        "fruits"
      ],
      "metadata": {
        "colab": {
          "base_uri": "https://localhost:8080/"
        },
        "id": "SQtxN1voMGK3",
        "outputId": "d1219240-658a-4479-966a-d289ac1b9ae9"
      },
      "execution_count": 144,
      "outputs": [
        {
          "output_type": "execute_result",
          "data": {
            "text/plain": [
              "['apple', 'cherry', 'banana', 'orange']"
            ]
          },
          "metadata": {},
          "execution_count": 144
        }
      ]
    },
    {
      "cell_type": "code",
      "source": [
        "fruits.sort()\n",
        "fruits"
      ],
      "metadata": {
        "colab": {
          "base_uri": "https://localhost:8080/"
        },
        "id": "R2aVwBF1MtLt",
        "outputId": "52b333fa-defd-4fb8-bf6e-28d3562bd87d"
      },
      "execution_count": 145,
      "outputs": [
        {
          "output_type": "execute_result",
          "data": {
            "text/plain": [
              "['apple', 'banana', 'cherry', 'orange']"
            ]
          },
          "metadata": {},
          "execution_count": 145
        }
      ]
    },
    {
      "cell_type": "code",
      "source": [
        "fruits.reverse()\n",
        "fruits"
      ],
      "metadata": {
        "colab": {
          "base_uri": "https://localhost:8080/"
        },
        "id": "fAmnq3JcOhmH",
        "outputId": "9fcd8439-4348-419f-8078-802628b02c03"
      },
      "execution_count": 146,
      "outputs": [
        {
          "output_type": "execute_result",
          "data": {
            "text/plain": [
              "['orange', 'cherry', 'banana', 'apple']"
            ]
          },
          "metadata": {},
          "execution_count": 146
        }
      ]
    },
    {
      "cell_type": "code",
      "source": [
        "fruits.remove('orange')\n",
        "fruits"
      ],
      "metadata": {
        "colab": {
          "base_uri": "https://localhost:8080/"
        },
        "id": "J5fPIEeEOmww",
        "outputId": "a65c1f49-372e-4b45-88cd-f7f37b4c5540"
      },
      "execution_count": 147,
      "outputs": [
        {
          "output_type": "execute_result",
          "data": {
            "text/plain": [
              "['cherry', 'banana', 'apple']"
            ]
          },
          "metadata": {},
          "execution_count": 147
        }
      ]
    },
    {
      "cell_type": "code",
      "source": [
        "fruits.pop(1) #delete element\n",
        "fruits"
      ],
      "metadata": {
        "colab": {
          "base_uri": "https://localhost:8080/"
        },
        "id": "xO-tmDKwOsj0",
        "outputId": "389225af-4cf4-4e79-f672-95acd5aabca7"
      },
      "execution_count": 148,
      "outputs": [
        {
          "output_type": "execute_result",
          "data": {
            "text/plain": [
              "['cherry', 'apple']"
            ]
          },
          "metadata": {},
          "execution_count": 148
        }
      ]
    },
    {
      "cell_type": "code",
      "source": [
        "fruits.insert(1, \"watermelon\")\n",
        "fruits"
      ],
      "metadata": {
        "colab": {
          "base_uri": "https://localhost:8080/"
        },
        "id": "lmkKLJc7Ownd",
        "outputId": "b7a83c28-f0f2-4f3d-bc2a-945eb978fa95"
      },
      "execution_count": 149,
      "outputs": [
        {
          "output_type": "execute_result",
          "data": {
            "text/plain": [
              "['cherry', 'watermelon', 'apple']"
            ]
          },
          "metadata": {},
          "execution_count": 149
        }
      ]
    },
    {
      "cell_type": "code",
      "source": [
        "fruits.index(\"watermelon\")\n"
      ],
      "metadata": {
        "colab": {
          "base_uri": "https://localhost:8080/"
        },
        "id": "GuVLIBetO7ml",
        "outputId": "3a36a740-c563-4218-d318-c76c13fbb668"
      },
      "execution_count": 150,
      "outputs": [
        {
          "output_type": "execute_result",
          "data": {
            "text/plain": [
              "1"
            ]
          },
          "metadata": {},
          "execution_count": 150
        }
      ]
    },
    {
      "cell_type": "code",
      "source": [
        "others=['guava','strawberry','blueberry','banana']\n",
        "others"
      ],
      "metadata": {
        "colab": {
          "base_uri": "https://localhost:8080/"
        },
        "id": "mQhYCFU6PaoB",
        "outputId": "9a22b226-7d83-44d1-ce15-34ba3a90de5a"
      },
      "execution_count": 151,
      "outputs": [
        {
          "output_type": "execute_result",
          "data": {
            "text/plain": [
              "['guava', 'strawberry', 'blueberry', 'banana']"
            ]
          },
          "metadata": {},
          "execution_count": 151
        }
      ]
    },
    {
      "cell_type": "code",
      "source": [
        "fruits.extend(others)\n",
        "fruits"
      ],
      "metadata": {
        "colab": {
          "base_uri": "https://localhost:8080/"
        },
        "id": "ZCe8C3tRP7PS",
        "outputId": "7c2b1439-d3cb-4720-86e6-14d09e37825e"
      },
      "execution_count": 152,
      "outputs": [
        {
          "output_type": "execute_result",
          "data": {
            "text/plain": [
              "['cherry', 'watermelon', 'apple', 'guava', 'strawberry', 'blueberry', 'banana']"
            ]
          },
          "metadata": {},
          "execution_count": 152
        }
      ]
    },
    {
      "cell_type": "code",
      "source": [
        "fruits.count('banana')"
      ],
      "metadata": {
        "colab": {
          "base_uri": "https://localhost:8080/"
        },
        "id": "uQBEN3kHQPEB",
        "outputId": "981c6ec2-132f-4dd1-c588-14192e6a91db"
      },
      "execution_count": 153,
      "outputs": [
        {
          "output_type": "execute_result",
          "data": {
            "text/plain": [
              "1"
            ]
          },
          "metadata": {},
          "execution_count": 153
        }
      ]
    },
    {
      "cell_type": "code",
      "source": [
        "fruits.copy()\n",
        "fruits"
      ],
      "metadata": {
        "colab": {
          "base_uri": "https://localhost:8080/"
        },
        "id": "YyVXg_8aQbcJ",
        "outputId": "2c8cb82a-1663-4aa0-83cb-7fbdd49d5327"
      },
      "execution_count": 154,
      "outputs": [
        {
          "output_type": "execute_result",
          "data": {
            "text/plain": [
              "['cherry', 'watermelon', 'apple', 'guava', 'strawberry', 'blueberry', 'banana']"
            ]
          },
          "metadata": {},
          "execution_count": 154
        }
      ]
    },
    {
      "cell_type": "code",
      "source": [
        "fruits.clear()\n",
        "fruits"
      ],
      "metadata": {
        "colab": {
          "base_uri": "https://localhost:8080/"
        },
        "id": "3Xt-vjmoQzUC",
        "outputId": "96ab4ee6-f415-4e3c-960c-e6b4b7d34cdf"
      },
      "execution_count": 155,
      "outputs": [
        {
          "output_type": "execute_result",
          "data": {
            "text/plain": [
              "[]"
            ]
          },
          "metadata": {},
          "execution_count": 155
        }
      ]
    },
    {
      "cell_type": "markdown",
      "source": [
        "Python String"
      ],
      "metadata": {
        "id": "Eck4SRmwRclv"
      }
    },
    {
      "cell_type": "code",
      "source": [
        "txt=\"hello, I am final year student\"\n",
        "a=txt.capitalize()\n",
        "print(a)"
      ],
      "metadata": {
        "colab": {
          "base_uri": "https://localhost:8080/"
        },
        "id": "2T4N4Z2MRWIw",
        "outputId": "d72a905d-7726-4c61-c17a-b74849b744b6"
      },
      "execution_count": 156,
      "outputs": [
        {
          "output_type": "stream",
          "name": "stdout",
          "text": [
            "Hello, i am final year student\n"
          ]
        }
      ]
    },
    {
      "cell_type": "code",
      "source": [
        "txt=\"hello, I am from Maharashtra and I brought up in Maharashtra\"\n",
        "b=txt.count('Maharashtra')\n",
        "print(b)"
      ],
      "metadata": {
        "colab": {
          "base_uri": "https://localhost:8080/"
        },
        "id": "KcjpEP6UTWDs",
        "outputId": "33e37f0b-246f-4ac0-8b0b-1abc1f5b0638"
      },
      "execution_count": 157,
      "outputs": [
        {
          "output_type": "stream",
          "name": "stdout",
          "text": [
            "2\n"
          ]
        }
      ]
    },
    {
      "cell_type": "code",
      "source": [
        "txt=\"I love apples, my favorite fruit is apple\" #also calculate space and indexing from 0\n",
        "c=txt.find('apple')\n",
        "print(c)\n"
      ],
      "metadata": {
        "colab": {
          "base_uri": "https://localhost:8080/"
        },
        "id": "PfE7uNEsTwqF",
        "outputId": "4e82284f-9ca3-47bf-f51b-8b19cc92cfcf"
      },
      "execution_count": 158,
      "outputs": [
        {
          "output_type": "stream",
          "name": "stdout",
          "text": [
            "7\n"
          ]
        }
      ]
    },
    {
      "cell_type": "code",
      "source": [
        "d=txt.index('is')\n",
        "print(d)"
      ],
      "metadata": {
        "colab": {
          "base_uri": "https://localhost:8080/"
        },
        "id": "jgS2YgIsUmmK",
        "outputId": "9437e35f-b2c5-4223-af13-a437420322d8"
      },
      "execution_count": 159,
      "outputs": [
        {
          "output_type": "stream",
          "name": "stdout",
          "text": [
            "33\n"
          ]
        }
      ]
    },
    {
      "cell_type": "code",
      "source": [
        "txt=\"hello, my name is Peter, I am 26 years old\"\n",
        "e=txt.split(',')\n",
        "print(e)"
      ],
      "metadata": {
        "colab": {
          "base_uri": "https://localhost:8080/"
        },
        "id": "FvcuQGxuVpqm",
        "outputId": "414f9c6c-51a7-4218-9c66-ceea8dd68d68"
      },
      "execution_count": 160,
      "outputs": [
        {
          "output_type": "stream",
          "name": "stdout",
          "text": [
            "['hello', ' my name is Peter', ' I am 26 years old']\n"
          ]
        }
      ]
    },
    {
      "cell_type": "code",
      "source": [
        "txt=\"company12\" #is alphanumeric\n",
        "name=txt.isalnum()\n",
        "print(name)"
      ],
      "metadata": {
        "colab": {
          "base_uri": "https://localhost:8080/"
        },
        "id": "Og8ZBuE2Wdrc",
        "outputId": "4d261832-1db9-4849-d34b-cb06de862011"
      },
      "execution_count": 161,
      "outputs": [
        {
          "output_type": "stream",
          "name": "stdout",
          "text": [
            "True\n"
          ]
        }
      ]
    },
    {
      "cell_type": "code",
      "source": [
        "txt=\"Company12\" #is alphabets\n",
        "alpha=txt.isalpha()\n",
        "print(alpha)"
      ],
      "metadata": {
        "colab": {
          "base_uri": "https://localhost:8080/"
        },
        "id": "Jy4Ghn04XW85",
        "outputId": "acbb0b03-9d75-4d2d-c1e0-581724d4ff5b"
      },
      "execution_count": 162,
      "outputs": [
        {
          "output_type": "stream",
          "name": "stdout",
          "text": [
            "False\n"
          ]
        }
      ]
    },
    {
      "cell_type": "code",
      "source": [
        "txt=\"50180\"\n",
        "num=txt.isdigit()\n",
        "print(num)"
      ],
      "metadata": {
        "colab": {
          "base_uri": "https://localhost:8080/"
        },
        "id": "xJet3LSMX2Np",
        "outputId": "42f97f25-3eb4-41b5-8c93-7f3f3390a4e3"
      },
      "execution_count": 164,
      "outputs": [
        {
          "output_type": "stream",
          "name": "stdout",
          "text": [
            "True\n"
          ]
        }
      ]
    },
    {
      "cell_type": "code",
      "source": [
        "names=[\"Ram\",\"Laxman\",\"Bharat\"]\n",
        "joined=\"_\".join(names)\n",
        "print(joined)"
      ],
      "metadata": {
        "colab": {
          "base_uri": "https://localhost:8080/"
        },
        "id": "mhz3GyHUYklL",
        "outputId": "7fab01ef-6950-4f3c-877d-e87c636aa805"
      },
      "execution_count": 166,
      "outputs": [
        {
          "output_type": "stream",
          "name": "stdout",
          "text": [
            "Ram_Laxman_Bharat\n"
          ]
        }
      ]
    },
    {
      "cell_type": "code",
      "source": [
        "txt=\"I love sports\"\n",
        "result=txt.replace(\"sports\",\"cricket\")\n",
        "print(result)"
      ],
      "metadata": {
        "colab": {
          "base_uri": "https://localhost:8080/"
        },
        "id": "pd6aItjtZ8F9",
        "outputId": "c6a7a0f9-0426-4ed8-84e0-13748d7f8364"
      },
      "execution_count": 168,
      "outputs": [
        {
          "output_type": "stream",
          "name": "stdout",
          "text": [
            "I love cricket\n"
          ]
        }
      ]
    },
    {
      "cell_type": "code",
      "source": [
        "txt=\"Hello, Welcome my world.\"\n",
        "start=txt.startswith(\"Hello\")\n",
        "end=txt.endswith(\".\")\n",
        "print(start,end)"
      ],
      "metadata": {
        "colab": {
          "base_uri": "https://localhost:8080/"
        },
        "id": "G21uPlLQatrG",
        "outputId": "b1c3c3a9-1537-4c87-d45c-bd0c74fd3916"
      },
      "execution_count": 170,
      "outputs": [
        {
          "output_type": "stream",
          "name": "stdout",
          "text": [
            "True True\n"
          ]
        }
      ]
    },
    {
      "cell_type": "markdown",
      "source": [
        "Conditional Statements"
      ],
      "metadata": {
        "id": "vluvG_rhcmFH"
      }
    },
    {
      "cell_type": "code",
      "source": [
        "a, b=33,100\n",
        "if b>a:\n",
        "  print(\"b is greater than a\")"
      ],
      "metadata": {
        "colab": {
          "base_uri": "https://localhost:8080/"
        },
        "id": "oLW2dV8gcpGl",
        "outputId": "1b510ae7-e3b7-400a-859b-a3b6850f4b29"
      },
      "execution_count": 174,
      "outputs": [
        {
          "output_type": "stream",
          "name": "stdout",
          "text": [
            "b is greater than a\n"
          ]
        }
      ]
    },
    {
      "cell_type": "code",
      "source": [
        "aman, vinod=80,62\n",
        "if vinod>aman:\n",
        "  print(\"vinod scores greater than aman\")\n",
        "elif aman==vinod:\n",
        "  print(\"both scores are equal\")\n",
        "else:\n",
        "  print(\"aman scores greater than vinod\")"
      ],
      "metadata": {
        "colab": {
          "base_uri": "https://localhost:8080/"
        },
        "id": "sa2SsnHwdIFZ",
        "outputId": "cdf657f2-4ec0-4316-fa21-48b3eac9379b"
      },
      "execution_count": 177,
      "outputs": [
        {
          "output_type": "stream",
          "name": "stdout",
          "text": [
            "aman scores greater than vinod\n"
          ]
        }
      ]
    },
    {
      "cell_type": "code",
      "source": [
        "marks=45\n",
        "if marks>35:\n",
        "  print(\"He is pass\")\n",
        "  if marks>60:\n",
        "    print(\"He is an distinction\")\n",
        "  else:\n",
        "    print(\"he is in Mid range\")\n",
        "else:\n",
        "  print(\"he is fail\")\n"
      ],
      "metadata": {
        "colab": {
          "base_uri": "https://localhost:8080/"
        },
        "id": "cn8w5oacfDaa",
        "outputId": "819601f6-638b-44dc-fcb2-747735f275e6"
      },
      "execution_count": 181,
      "outputs": [
        {
          "output_type": "stream",
          "name": "stdout",
          "text": [
            "He is pass\n",
            "he is in Mid range\n"
          ]
        }
      ]
    }
  ]
}