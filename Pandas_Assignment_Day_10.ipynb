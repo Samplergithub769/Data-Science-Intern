{
  "cells": [
    {
      "cell_type": "markdown",
      "metadata": {
        "id": "view-in-github",
        "colab_type": "text"
      },
      "source": [
        "<a href=\"https://colab.research.google.com/github/Samplergithub769/Data-Science-Intern/blob/main/Pandas_Assignment_Day_10.ipynb\" target=\"_parent\"><img src=\"https://colab.research.google.com/assets/colab-badge.svg\" alt=\"Open In Colab\"/></a>"
      ]
    },
    {
      "cell_type": "markdown",
      "metadata": {
        "id": "XHvoVqK5mYA-"
      },
      "source": [
        "# <center>Pandas Assignment</center>"
      ],
      "id": "XHvoVqK5mYA-"
    },
    {
      "cell_type": "markdown",
      "metadata": {
        "id": "v9Qb2_aumYBF"
      },
      "source": [
        "Import pandas and numpy with their aliases"
      ],
      "id": "v9Qb2_aumYBF"
    },
    {
      "cell_type": "code",
      "execution_count": 1,
      "metadata": {
        "id": "ihFP1wXZmYBF"
      },
      "outputs": [],
      "source": [
        "import pandas as pd\n",
        "import numpy as np"
      ],
      "id": "ihFP1wXZmYBF"
    },
    {
      "cell_type": "markdown",
      "metadata": {
        "id": "0b8hUBhTmYBG"
      },
      "source": [
        "Create a variable a = pd.Series([ 100, 200, 300, 400])"
      ],
      "id": "0b8hUBhTmYBG"
    },
    {
      "cell_type": "code",
      "execution_count": 2,
      "metadata": {
        "id": "hzvzkbNYmYBH"
      },
      "outputs": [],
      "source": [
        "a = pd.Series([100,200,300,400])\n",
        "\n",
        "\n"
      ],
      "id": "hzvzkbNYmYBH"
    },
    {
      "cell_type": "markdown",
      "metadata": {
        "id": "BSyNFbitmYBH"
      },
      "source": [
        "Print a, and data type"
      ],
      "id": "BSyNFbitmYBH"
    },
    {
      "cell_type": "code",
      "execution_count": 3,
      "metadata": {
        "id": "GMmFsjPamYBH",
        "outputId": "f5e7f86d-d1f8-42ab-97b4-ed4cc0afa9b9",
        "colab": {
          "base_uri": "https://localhost:8080/"
        }
      },
      "outputs": [
        {
          "output_type": "stream",
          "name": "stdout",
          "text": [
            "0    100\n",
            "1    200\n",
            "2    300\n",
            "3    400\n",
            "dtype: int64\n",
            "Data type: <class 'pandas.core.series.Series'>\n"
          ]
        }
      ],
      "source": [
        "print(a)\n",
        "print(\"Data type:\", type(a))\n",
        "\n",
        "\n"
      ],
      "id": "GMmFsjPamYBH"
    },
    {
      "cell_type": "markdown",
      "metadata": {
        "id": "z0FryxOXmYBI"
      },
      "source": [
        "Using indexing access the element 300 from the series a."
      ],
      "id": "z0FryxOXmYBI"
    },
    {
      "cell_type": "code",
      "execution_count": 4,
      "metadata": {
        "id": "wERTsh-4mYBJ",
        "outputId": "4be700e6-6f06-4225-bb11-75afa0e83e75",
        "colab": {
          "base_uri": "https://localhost:8080/"
        }
      },
      "outputs": [
        {
          "output_type": "stream",
          "name": "stdout",
          "text": [
            "300\n"
          ]
        }
      ],
      "source": [
        "element = a[2]\n",
        "print(element)\n"
      ],
      "id": "wERTsh-4mYBJ"
    },
    {
      "cell_type": "markdown",
      "metadata": {
        "id": "HHEKyOtemYBJ"
      },
      "source": [
        "What are the values of index for series a?"
      ],
      "id": "HHEKyOtemYBJ"
    },
    {
      "cell_type": "code",
      "execution_count": 5,
      "metadata": {
        "id": "uQOnSJQ4mYBJ",
        "outputId": "bbc44f2b-db4a-4ee0-9462-894e5b89d9f9",
        "colab": {
          "base_uri": "https://localhost:8080/"
        }
      },
      "outputs": [
        {
          "output_type": "stream",
          "name": "stdout",
          "text": [
            "RangeIndex(start=0, stop=4, step=1)\n"
          ]
        }
      ],
      "source": [
        "\n",
        "print(a.index)\n"
      ],
      "id": "uQOnSJQ4mYBJ"
    },
    {
      "cell_type": "markdown",
      "metadata": {
        "id": "EuFjG74wmYBJ"
      },
      "source": [
        "Change the index to  ['c', 'a', 'b', 'd']"
      ],
      "id": "EuFjG74wmYBJ"
    },
    {
      "cell_type": "code",
      "execution_count": 6,
      "metadata": {
        "id": "1ueAAFiJmYBK",
        "outputId": "1d84674a-1a5a-47d7-82b5-ef6f10255b87",
        "colab": {
          "base_uri": "https://localhost:8080/"
        }
      },
      "outputs": [
        {
          "output_type": "stream",
          "name": "stdout",
          "text": [
            "c    100\n",
            "a    200\n",
            "b    300\n",
            "d    400\n",
            "dtype: int64\n"
          ]
        }
      ],
      "source": [
        "a = pd.Series([100, 200, 300, 400], index=['c', 'a', 'b', 'd'])\n",
        "print(a)\n",
        "\n"
      ],
      "id": "1ueAAFiJmYBK"
    },
    {
      "cell_type": "markdown",
      "metadata": {
        "id": "ZdZLyRO7mYBK"
      },
      "source": [
        "Access the value in the series with index 'd'"
      ],
      "id": "ZdZLyRO7mYBK"
    },
    {
      "cell_type": "code",
      "execution_count": 7,
      "metadata": {
        "id": "oN1ce3GymYBK",
        "outputId": "551ad349-afc5-4fef-fe38-b4971a041b16",
        "colab": {
          "base_uri": "https://localhost:8080/"
        }
      },
      "outputs": [
        {
          "output_type": "stream",
          "name": "stdout",
          "text": [
            "400\n"
          ]
        }
      ],
      "source": [
        "value = a['d']\n",
        "print(value)\n",
        "\n"
      ],
      "id": "oN1ce3GymYBK"
    },
    {
      "cell_type": "markdown",
      "metadata": {
        "id": "eQSGwKtFmYBK"
      },
      "source": [
        "Sort the values wrt to the index and print it"
      ],
      "id": "eQSGwKtFmYBK"
    },
    {
      "cell_type": "code",
      "execution_count": 8,
      "metadata": {
        "id": "-arvricBmYBL",
        "outputId": "9fc79024-079e-4e28-df8b-a2ce49deaf33",
        "colab": {
          "base_uri": "https://localhost:8080/"
        }
      },
      "outputs": [
        {
          "output_type": "stream",
          "name": "stdout",
          "text": [
            "a    200\n",
            "b    300\n",
            "c    100\n",
            "d    400\n",
            "dtype: int64\n"
          ]
        }
      ],
      "source": [
        "sorted_a = a.sort_index()\n",
        "print(sorted_a)\n",
        "\n",
        "\n"
      ],
      "id": "-arvricBmYBL"
    },
    {
      "cell_type": "markdown",
      "metadata": {
        "id": "g-fXVSK2mYBL"
      },
      "source": [
        "Create a new Pandas Series b having index as 'e', 'f', and 'g' and value 800,450,100 and print it"
      ],
      "id": "g-fXVSK2mYBL"
    },
    {
      "cell_type": "code",
      "execution_count": 9,
      "metadata": {
        "id": "fAg_rI3hmYBL",
        "outputId": "89da7a50-149a-4bd5-f0c1-e49f5340ec8c",
        "colab": {
          "base_uri": "https://localhost:8080/"
        }
      },
      "outputs": [
        {
          "output_type": "stream",
          "name": "stdout",
          "text": [
            "e    800\n",
            "f    450\n",
            "g    100\n",
            "dtype: int64\n"
          ]
        }
      ],
      "source": [
        "b = pd.Series([800, 450, 100], index=['e', 'f', 'g'])\n",
        "print(b)\n",
        "\n",
        "\n",
        "\n",
        "\n"
      ],
      "id": "fAg_rI3hmYBL"
    },
    {
      "cell_type": "markdown",
      "metadata": {
        "id": "jWhRRtF1mYBL"
      },
      "source": [
        "Append b series at the end of a series"
      ],
      "id": "jWhRRtF1mYBL"
    },
    {
      "cell_type": "code",
      "execution_count": 10,
      "metadata": {
        "id": "TBV8hkRXmYBL",
        "colab": {
          "base_uri": "https://localhost:8080/"
        },
        "outputId": "02af47ab-3981-4c9f-e452-ec2e6bf92b96"
      },
      "outputs": [
        {
          "output_type": "stream",
          "name": "stdout",
          "text": [
            "c    100\n",
            "a    200\n",
            "b    300\n",
            "d    400\n",
            "e    800\n",
            "f    450\n",
            "g    100\n",
            "dtype: int64\n"
          ]
        }
      ],
      "source": [
        "combined = pd.concat([a, b]) # Use pd.concat instead of pd.append\n",
        "print(combined)\n",
        "\n"
      ],
      "id": "TBV8hkRXmYBL"
    },
    {
      "cell_type": "code",
      "execution_count": 11,
      "metadata": {
        "id": "Xfm5WgBYmYBM",
        "outputId": "abdcc1bb-8f32-4a3e-d171-7c11c0d50c81",
        "colab": {
          "base_uri": "https://localhost:8080/"
        }
      },
      "outputs": [
        {
          "output_type": "stream",
          "name": "stdout",
          "text": [
            "c    100\n",
            "a    200\n",
            "b    300\n",
            "d    400\n",
            "dtype: int64\n"
          ]
        }
      ],
      "source": [
        "#print a again after appending b into it\n",
        "\n",
        "\n",
        "print(a)\n"
      ],
      "id": "Xfm5WgBYmYBM"
    },
    {
      "cell_type": "markdown",
      "metadata": {
        "id": "6lz_BR0umYBM"
      },
      "source": [
        "Sort the values in descending order of a and print the index of the sorted series"
      ],
      "id": "6lz_BR0umYBM"
    },
    {
      "cell_type": "code",
      "execution_count": 12,
      "metadata": {
        "id": "5srJV0y0mYBM",
        "colab": {
          "base_uri": "https://localhost:8080/"
        },
        "outputId": "c632a4a0-a97c-4fc4-bd20-26aae2a25d1a"
      },
      "outputs": [
        {
          "output_type": "stream",
          "name": "stdout",
          "text": [
            "d    400\n",
            "b    300\n",
            "a    200\n",
            "c    100\n",
            "dtype: int64\n",
            "\n",
            "Index of sorted series: ['d', 'b', 'a', 'c']\n"
          ]
        }
      ],
      "source": [
        "# Sorting values in descending order\n",
        "sorted_a = a.sort_values(ascending=False)\n",
        "\n",
        "# Printing sorted series and its index\n",
        "print(sorted_a)\n",
        "print(\"\\nIndex of sorted series:\", sorted_a.index.tolist())\n",
        "\n"
      ],
      "id": "5srJV0y0mYBM"
    },
    {
      "cell_type": "code",
      "execution_count": 12,
      "metadata": {
        "id": "9OxmwQRAmYBM"
      },
      "outputs": [],
      "source": [
        "\n",
        "\n"
      ],
      "id": "9OxmwQRAmYBM"
    },
    {
      "cell_type": "markdown",
      "metadata": {
        "id": "OQ5gj4romYBM"
      },
      "source": [
        "## Pandas DataFrame"
      ],
      "id": "OQ5gj4romYBM"
    },
    {
      "cell_type": "markdown",
      "metadata": {
        "id": "tD7de_2amYBM"
      },
      "source": [
        "### Part 1"
      ],
      "id": "tD7de_2amYBM"
    },
    {
      "cell_type": "markdown",
      "metadata": {
        "id": "z_nAQa4BmYBN"
      },
      "source": [
        "Create a pandas dataframe df from the series 'a' that we used in the last section, print the dataframe"
      ],
      "id": "z_nAQa4BmYBN"
    },
    {
      "cell_type": "code",
      "execution_count": 13,
      "metadata": {
        "id": "ojD-B6FvmYBN"
      },
      "outputs": [],
      "source": [
        "df = pd.DataFrame([100,200,300,400])\n",
        "\n",
        "\n",
        "\n",
        "\n",
        "\n"
      ],
      "id": "ojD-B6FvmYBN"
    },
    {
      "cell_type": "code",
      "execution_count": 14,
      "metadata": {
        "id": "2r2SyCYNmYBN",
        "colab": {
          "base_uri": "https://localhost:8080/"
        },
        "outputId": "535bab68-de0c-4d92-b232-8e6cbe4d9f6f"
      },
      "outputs": [
        {
          "output_type": "stream",
          "name": "stdout",
          "text": [
            "     0\n",
            "0  100\n",
            "1  200\n",
            "2  300\n",
            "3  400\n"
          ]
        }
      ],
      "source": [
        "print(df)"
      ],
      "id": "2r2SyCYNmYBN"
    },
    {
      "cell_type": "markdown",
      "metadata": {
        "id": "yzrIH3irmYBN"
      },
      "source": [
        "What is the shape of the datafarme <br>\n",
        "(also, what does it imply?)"
      ],
      "id": "yzrIH3irmYBN"
    },
    {
      "cell_type": "code",
      "execution_count": 15,
      "metadata": {
        "id": "aFo5tNrVmYBN",
        "colab": {
          "base_uri": "https://localhost:8080/"
        },
        "outputId": "c7fa8019-1e52-4d21-c586-4dc1658c45de"
      },
      "outputs": [
        {
          "output_type": "stream",
          "name": "stdout",
          "text": [
            "(4, 1)\n"
          ]
        }
      ],
      "source": [
        "print(df.shape)\n",
        "\n",
        "\n"
      ],
      "id": "aFo5tNrVmYBN"
    },
    {
      "cell_type": "markdown",
      "metadata": {
        "id": "Dl0Hr0LSmYBO"
      },
      "source": [
        "Hey! remember shape (7,1) implies dataframe has 7 rows and 1 column."
      ],
      "id": "Dl0Hr0LSmYBO"
    },
    {
      "cell_type": "markdown",
      "metadata": {
        "id": "hwcaXl43mYBO"
      },
      "source": [
        "What is the index of the dataframe, is it same as the series 'a'"
      ],
      "id": "hwcaXl43mYBO"
    },
    {
      "cell_type": "code",
      "execution_count": 16,
      "metadata": {
        "id": "1-gMxT-emYBO",
        "colab": {
          "base_uri": "https://localhost:8080/"
        },
        "outputId": "a2ff4cab-4afe-4b33-cb41-7db63c0bee2c"
      },
      "outputs": [
        {
          "output_type": "stream",
          "name": "stdout",
          "text": [
            "RangeIndex(start=0, stop=4, step=1)\n"
          ]
        }
      ],
      "source": [
        "# yep its same as the series.\n",
        "print(df.index)\n"
      ],
      "id": "1-gMxT-emYBO"
    },
    {
      "cell_type": "markdown",
      "metadata": {
        "id": "C5wadnBymYBO"
      },
      "source": [
        "print the head and tail of the dataframe. <br>\n",
        "Additional - (what does head and tali represent?)"
      ],
      "id": "C5wadnBymYBO"
    },
    {
      "cell_type": "code",
      "execution_count": 17,
      "metadata": {
        "id": "U2vxYrPnmYBO",
        "colab": {
          "base_uri": "https://localhost:8080/"
        },
        "outputId": "8687d8e9-8f12-440e-b1ea-b86f49f3b783"
      },
      "outputs": [
        {
          "output_type": "stream",
          "name": "stdout",
          "text": [
            "Head of DataFrame:\n",
            "     0\n",
            "0  100\n",
            "1  200\n",
            "2  300\n",
            "3  400\n"
          ]
        }
      ],
      "source": [
        "# Printing head (first few rows)\n",
        "print(\"Head of DataFrame:\")\n",
        "print(df.head())\n",
        "\n",
        "\n"
      ],
      "id": "U2vxYrPnmYBO"
    },
    {
      "cell_type": "code",
      "execution_count": 18,
      "metadata": {
        "id": "nikOdGC_mYBO",
        "colab": {
          "base_uri": "https://localhost:8080/"
        },
        "outputId": "56b96454-28ed-4544-8a33-7a1dade4966c"
      },
      "outputs": [
        {
          "output_type": "stream",
          "name": "stdout",
          "text": [
            "\n",
            "Tail of DataFrame:\n",
            "     0\n",
            "0  100\n",
            "1  200\n",
            "2  300\n",
            "3  400\n"
          ]
        }
      ],
      "source": [
        "# Printing tail (last few rows)\n",
        "print(\"\\nTail of DataFrame:\")\n",
        "print(df.tail())\n",
        "\n",
        "\n"
      ],
      "id": "nikOdGC_mYBO"
    },
    {
      "cell_type": "markdown",
      "metadata": {
        "id": "Ci2tiwbBmYBO"
      },
      "source": [
        "Rename the column of the dataframe as 'points'"
      ],
      "id": "Ci2tiwbBmYBO"
    },
    {
      "cell_type": "code",
      "execution_count": 19,
      "metadata": {
        "id": "K3OsbVD3mYBP",
        "colab": {
          "base_uri": "https://localhost:8080/"
        },
        "outputId": "2e0f365a-e49d-4b40-d5a2-294a729d9be4"
      },
      "outputs": [
        {
          "output_type": "stream",
          "name": "stdout",
          "text": [
            "   points\n",
            "0     100\n",
            "1     200\n",
            "2     300\n",
            "3     400\n"
          ]
        }
      ],
      "source": [
        "\n",
        "# Renaming the column to 'points'\n",
        "df.columns = ['points']\n",
        "\n",
        "# Printing the updated DataFrame\n",
        "print(df)\n",
        "\n"
      ],
      "id": "K3OsbVD3mYBP"
    },
    {
      "cell_type": "markdown",
      "metadata": {
        "id": "bBV0VfzzmYBP"
      },
      "source": [
        "Create another Series 'fruits', which contains random names of fruits from ['orange','mango','apple']. The series should contain 7 elements, randomly selected from ['orange','mango','apple']"
      ],
      "id": "bBV0VfzzmYBP"
    },
    {
      "cell_type": "code",
      "execution_count": 20,
      "metadata": {
        "id": "baUmpsuhmYBP"
      },
      "outputs": [],
      "source": [
        "#Create fruits array\n",
        "\n",
        "# Define the list of fruit choices\n",
        "fruit_choices = ['orange', 'mango', 'apple']\n",
        "\n",
        "# Create the fruits array with 7 random selections\n",
        "fruits_array = np.random.choice(fruit_choices, size=7)\n",
        "\n",
        "\n"
      ],
      "id": "baUmpsuhmYBP"
    },
    {
      "cell_type": "code",
      "execution_count": 21,
      "metadata": {
        "id": "QrbnjM8FmYBP",
        "colab": {
          "base_uri": "https://localhost:8080/"
        },
        "outputId": "180bc1ea-a87f-4901-9da2-56ddd5c970e7"
      },
      "outputs": [
        {
          "output_type": "stream",
          "name": "stdout",
          "text": [
            "0     mango\n",
            "1    orange\n",
            "2     mango\n",
            "3    orange\n",
            "4     apple\n",
            "5     apple\n",
            "6     apple\n",
            "dtype: object\n"
          ]
        }
      ],
      "source": [
        "#Create series fruits out of fruits array\n",
        "fruits = pd.Series(fruits_array)\n",
        "# Print the Series\n",
        "print(fruits)\n",
        "\n"
      ],
      "id": "QrbnjM8FmYBP"
    },
    {
      "cell_type": "markdown",
      "metadata": {
        "id": "20slMbq5mYBP"
      },
      "source": [
        "Change the index of fruits to the index of dataframe df"
      ],
      "id": "20slMbq5mYBP"
    },
    {
      "cell_type": "code",
      "execution_count": 22,
      "metadata": {
        "id": "1n4THBgkmYBQ",
        "colab": {
          "base_uri": "https://localhost:8080/"
        },
        "outputId": "40a639b0-00a6-489a-b619-9b475777d1bd"
      },
      "outputs": [
        {
          "output_type": "stream",
          "name": "stdout",
          "text": [
            "0    orange\n",
            "1     mango\n",
            "2     mango\n",
            "3     mango\n",
            "dtype: object\n"
          ]
        }
      ],
      "source": [
        "# Creating the fruits array with 4 random values\n",
        "fruit_choices = ['orange', 'mango', 'apple']\n",
        "fruits_array = np.random.choice(fruit_choices, size=df.shape[0])  # Ensure same size as df\n",
        "\n",
        "# Creating the Series with the same index as df\n",
        "fruits = pd.Series(fruits_array, index=df.index)\n",
        "\n",
        "# Printing the updated Series\n",
        "print(fruits)\n",
        "\n",
        "\n",
        "\n",
        "\n",
        "\n"
      ],
      "id": "1n4THBgkmYBQ"
    },
    {
      "cell_type": "markdown",
      "metadata": {
        "id": "oPv8dJ_2mYBQ"
      },
      "source": [
        "Add this fruits series as a new column to the dataframe df with its column name as 'fruits'\n",
        "<br>print the head of the dataframe to verify"
      ],
      "id": "oPv8dJ_2mYBQ"
    },
    {
      "cell_type": "code",
      "execution_count": 23,
      "metadata": {
        "id": "tit_GDscmYBQ",
        "colab": {
          "base_uri": "https://localhost:8080/"
        },
        "outputId": "afc04b74-d958-4477-87ed-c2893889a113"
      },
      "outputs": [
        {
          "output_type": "stream",
          "name": "stdout",
          "text": [
            "   points  fruits\n",
            "0     100  orange\n",
            "1     200   mango\n",
            "2     300   mango\n",
            "3     400   mango\n"
          ]
        }
      ],
      "source": [
        "# Adding the fruits Series as a new column\n",
        "df['fruits'] = fruits\n",
        "\n",
        "# Printing the head of the updated DataFrame\n",
        "print(df.head())\n",
        "\n",
        "\n",
        "\n"
      ],
      "id": "tit_GDscmYBQ"
    },
    {
      "cell_type": "code",
      "execution_count": 23,
      "metadata": {
        "id": "X3A6oKUXmYBQ"
      },
      "outputs": [],
      "source": [
        "\n",
        "\n",
        "\n",
        "\n"
      ],
      "id": "X3A6oKUXmYBQ"
    },
    {
      "cell_type": "markdown",
      "metadata": {
        "id": "ACsvenslmYBQ"
      },
      "source": [
        "## Pandas Concatenation"
      ],
      "id": "ACsvenslmYBQ"
    },
    {
      "cell_type": "markdown",
      "metadata": {
        "id": "cwgg82N0mYBQ"
      },
      "source": [
        "Create a dataframe  d1 where the cols are  ‘city’ : [‘Chandigarh’, ‘Delhi’, ‘Kanpur’, ‘Chennai’, ‘Manali’ ] and ‘Temperature’ : [15, 22, 20, 26,-2]"
      ],
      "id": "cwgg82N0mYBQ"
    },
    {
      "cell_type": "code",
      "execution_count": 24,
      "metadata": {
        "id": "09tWwU18mYBR"
      },
      "outputs": [],
      "source": [
        "d1 = pd.DataFrame({\n",
        "    'city': ['Chandigarh', 'Delhi', 'Kanpur', 'Chennai', 'Manali'],\n",
        "    'Temperature': [15, 22, 20, 26, -2]\n",
        "})\n",
        "\n"
      ],
      "id": "09tWwU18mYBR"
    },
    {
      "cell_type": "markdown",
      "metadata": {
        "id": "XAquuUx_mYBR"
      },
      "source": [
        "Print(d1)"
      ],
      "id": "XAquuUx_mYBR"
    },
    {
      "cell_type": "code",
      "execution_count": 25,
      "metadata": {
        "id": "tEaf6dUVmYBR",
        "colab": {
          "base_uri": "https://localhost:8080/"
        },
        "outputId": "6346f7c0-b7cd-497d-87d0-58b221dbfeb9"
      },
      "outputs": [
        {
          "output_type": "stream",
          "name": "stdout",
          "text": [
            "         city  Temperature\n",
            "0  Chandigarh           15\n",
            "1       Delhi           22\n",
            "2      Kanpur           20\n",
            "3     Chennai           26\n",
            "4      Manali           -2\n"
          ]
        }
      ],
      "source": [
        "\n",
        "print(d1)\n",
        "\n"
      ],
      "id": "tEaf6dUVmYBR"
    },
    {
      "cell_type": "markdown",
      "metadata": {
        "id": "YmZ9u-4FmYBR"
      },
      "source": [
        "What is the shape of d1."
      ],
      "id": "YmZ9u-4FmYBR"
    },
    {
      "cell_type": "code",
      "execution_count": 26,
      "metadata": {
        "id": "upPyfWR7mYBR",
        "colab": {
          "base_uri": "https://localhost:8080/"
        },
        "outputId": "e89de3c6-785d-4d03-8d6b-c72281a35870"
      },
      "outputs": [
        {
          "output_type": "stream",
          "name": "stdout",
          "text": [
            "(5, 2)\n"
          ]
        }
      ],
      "source": [
        "print(d1.shape)\n",
        "\n",
        "\n"
      ],
      "id": "upPyfWR7mYBR"
    },
    {
      "cell_type": "markdown",
      "metadata": {
        "id": "JtBQ5SLtmYBS"
      },
      "source": [
        "Set city = d1['city']"
      ],
      "id": "JtBQ5SLtmYBS"
    },
    {
      "cell_type": "code",
      "execution_count": 27,
      "metadata": {
        "id": "mzE78QzrmYBS",
        "colab": {
          "base_uri": "https://localhost:8080/"
        },
        "outputId": "fef630cb-3643-48c1-a5de-5cd290a93039"
      },
      "outputs": [
        {
          "output_type": "stream",
          "name": "stdout",
          "text": [
            "0    Chandigarh\n",
            "1         Delhi\n",
            "2        Kanpur\n",
            "3       Chennai\n",
            "4        Manali\n",
            "Name: city, dtype: object\n"
          ]
        }
      ],
      "source": [
        "city = d1['city']\n",
        "print(city)\n",
        "\n",
        "\n"
      ],
      "id": "mzE78QzrmYBS"
    },
    {
      "cell_type": "markdown",
      "metadata": {
        "id": "WubWnFIcmYBS"
      },
      "source": [
        "print city <br>\n",
        "What is the type of city."
      ],
      "id": "WubWnFIcmYBS"
    },
    {
      "cell_type": "code",
      "execution_count": 28,
      "metadata": {
        "id": "6d4EjYTemYBS",
        "colab": {
          "base_uri": "https://localhost:8080/"
        },
        "outputId": "7f204d5a-3e4b-4aa7-ea70-f6ca6037f8cc"
      },
      "outputs": [
        {
          "output_type": "stream",
          "name": "stdout",
          "text": [
            "<class 'pandas.core.series.Series'>\n"
          ]
        }
      ],
      "source": [
        "print(type(city))\n",
        "\n",
        "\n"
      ],
      "id": "6d4EjYTemYBS"
    },
    {
      "cell_type": "markdown",
      "metadata": {
        "id": "uUdrLgg6mYBS"
      },
      "source": [
        "Create another datafeame 'd2' where the columns are <br>\n",
        "'city' - ['Bengalaru','Coimbatore','Srirangam','Pondicherry'] <br>\n",
        "'Temperature' - [24,35,36,39]"
      ],
      "id": "uUdrLgg6mYBS"
    },
    {
      "cell_type": "code",
      "execution_count": 29,
      "metadata": {
        "id": "CFBCGcvhmYBS",
        "colab": {
          "base_uri": "https://localhost:8080/"
        },
        "outputId": "479cb14b-f613-432d-bbf7-72a315e2f413"
      },
      "outputs": [
        {
          "output_type": "stream",
          "name": "stdout",
          "text": [
            "          city  Temperature\n",
            "0    Bengalaru           24\n",
            "1   Coimbatore           35\n",
            "2    Srirangam           36\n",
            "3  Pondicherry           39\n"
          ]
        }
      ],
      "source": [
        "# Creating the DataFrame d2\n",
        "d2 = pd.DataFrame({\n",
        "    'city': ['Bengalaru', 'Coimbatore', 'Srirangam', 'Pondicherry'],\n",
        "    'Temperature': [24, 35, 36, 39]\n",
        "})\n",
        "\n",
        "# Printing the DataFrame\n",
        "print(d2)\n",
        "\n",
        "\n",
        "\n"
      ],
      "id": "CFBCGcvhmYBS"
    },
    {
      "cell_type": "markdown",
      "metadata": {
        "id": "HivVdLN5mYBT"
      },
      "source": [
        "print the shape of this dataframe"
      ],
      "id": "HivVdLN5mYBT"
    },
    {
      "cell_type": "code",
      "execution_count": 30,
      "metadata": {
        "id": "9FFgtQJhmYBT",
        "colab": {
          "base_uri": "https://localhost:8080/"
        },
        "outputId": "d00641b2-4f5b-436a-b741-bcc9183b88fb"
      },
      "outputs": [
        {
          "output_type": "stream",
          "name": "stdout",
          "text": [
            "(4, 2)\n"
          ]
        }
      ],
      "source": [
        "print(d2.shape)\n"
      ],
      "id": "9FFgtQJhmYBT"
    },
    {
      "cell_type": "markdown",
      "metadata": {
        "id": "UK38h5ktmYBT"
      },
      "source": [
        "merge the two dataframes together, save it in a new dataframe named 'd3'"
      ],
      "id": "UK38h5ktmYBT"
    },
    {
      "cell_type": "code",
      "execution_count": 31,
      "metadata": {
        "id": "GMbOPfjCmYBT",
        "colab": {
          "base_uri": "https://localhost:8080/"
        },
        "outputId": "fc8c0186-c765-4ce2-e8a4-26b7f285ab99"
      },
      "outputs": [
        {
          "output_type": "stream",
          "name": "stdout",
          "text": [
            "          city  Temperature\n",
            "0   Chandigarh           15\n",
            "1        Delhi           22\n",
            "2       Kanpur           20\n",
            "3      Chennai           26\n",
            "4       Manali           -2\n",
            "5    Bengalaru           24\n",
            "6   Coimbatore           35\n",
            "7    Srirangam           36\n",
            "8  Pondicherry           39\n"
          ]
        }
      ],
      "source": [
        "# Merging d1 and d2\n",
        "d3 = pd.concat([d1, d2], ignore_index=True)\n",
        "\n",
        "# Printing the new dataframe\n",
        "print(d3)\n",
        "\n",
        "\n",
        "\n"
      ],
      "id": "GMbOPfjCmYBT"
    },
    {
      "cell_type": "markdown",
      "metadata": {
        "id": "1dGlNGzjmYBT"
      },
      "source": [
        "Select the part of the dataframe such that it contains cities wherer temp is less then or equal to 20 <br>\n",
        "How many cities are there?"
      ],
      "id": "1dGlNGzjmYBT"
    },
    {
      "cell_type": "code",
      "execution_count": 32,
      "metadata": {
        "id": "1vtC2UkgmYBT",
        "colab": {
          "base_uri": "https://localhost:8080/"
        },
        "outputId": "5134fb91-5dbd-47e3-84aa-774d9824aef9"
      },
      "outputs": [
        {
          "output_type": "stream",
          "name": "stdout",
          "text": [
            "         city  Temperature\n",
            "0  Chandigarh           15\n",
            "2      Kanpur           20\n",
            "4      Manali           -2\n",
            "\n",
            "Number of cities: 3\n"
          ]
        }
      ],
      "source": [
        "# Filtering cities where Temperature is ≤ 20\n",
        "cold_cities = d3[d3['Temperature'] <= 20]\n",
        "\n",
        "# Printing the filtered DataFrame\n",
        "print(cold_cities)\n",
        "\n",
        "# Printing the number of cities\n",
        "print(\"\\nNumber of cities:\", cold_cities.shape[0])\n",
        "\n",
        "\n"
      ],
      "id": "1vtC2UkgmYBT"
    },
    {
      "cell_type": "markdown",
      "metadata": {
        "id": "82QIQRQUmYBT"
      },
      "source": [
        "Select the part of the dataframe such that it contains the cities where tempearature greater than or equal to 35"
      ],
      "id": "82QIQRQUmYBT"
    },
    {
      "cell_type": "code",
      "execution_count": 33,
      "metadata": {
        "id": "Ea_hMtyGmYBU",
        "colab": {
          "base_uri": "https://localhost:8080/"
        },
        "outputId": "b37f173d-7e3f-40a8-a053-1f57f0c1cd82"
      },
      "outputs": [
        {
          "output_type": "stream",
          "name": "stdout",
          "text": [
            "          city  Temperature\n",
            "6   Coimbatore           35\n",
            "7    Srirangam           36\n",
            "8  Pondicherry           39\n",
            "\n",
            "Number of cities: 3\n"
          ]
        }
      ],
      "source": [
        "# Filtering cities where Temperature is ≥ 35\n",
        "hot_cities = d3[d3['Temperature'] >= 35]\n",
        "\n",
        "# Printing the filtered DataFrame\n",
        "print(hot_cities)\n",
        "\n",
        "# Printing the number of cities\n",
        "print(\"\\nNumber of cities:\", hot_cities.shape[0])\n",
        "\n",
        "\n"
      ],
      "id": "Ea_hMtyGmYBU"
    },
    {
      "cell_type": "markdown",
      "metadata": {
        "id": "BrYscXpWmYBU"
      },
      "source": [
        "**bold text**## Applying functions to columns and creating new columns"
      ],
      "id": "BrYscXpWmYBU"
    },
    {
      "cell_type": "markdown",
      "metadata": {
        "id": "7Z4ioDxtmYBU"
      },
      "source": [
        "We need to create another column in d3, which contains  a boolean value for each city to indicate whether it's a union territory or not.\n",
        "- HINT: Chandigarh, Pondicherry and Delhi are only 3 union territories here.\n"
      ],
      "id": "7Z4ioDxtmYBU"
    },
    {
      "cell_type": "code",
      "execution_count": 34,
      "metadata": {
        "id": "FR2wgv6tmYBU"
      },
      "outputs": [],
      "source": [
        "# Function to check if a city is a union territory\n",
        "def is_ut(x):\n",
        "    # List of union territories\n",
        "    ut_cities = ['Chandigarh', 'Pondicherry', 'Delhi']\n",
        "    return x in ut_cities  # Returns True if city is in the list, else False\n",
        "\n",
        "# Adding the new column 'is_ut' to d3\n",
        "d3['is_ut'] = d3['city'].apply(is_ut)\n",
        "\n",
        "\n"
      ],
      "id": "FR2wgv6tmYBU"
    },
    {
      "cell_type": "code",
      "execution_count": 35,
      "metadata": {
        "id": "0hd7QjComYBU",
        "colab": {
          "base_uri": "https://localhost:8080/"
        },
        "outputId": "830e7e78-4080-4888-e702-6ec7b306b4b6"
      },
      "outputs": [
        {
          "output_type": "stream",
          "name": "stdout",
          "text": [
            "          city  Temperature  is_ut\n",
            "0   Chandigarh           15   True\n",
            "1        Delhi           22   True\n",
            "2       Kanpur           20  False\n",
            "3      Chennai           26  False\n",
            "4       Manali           -2  False\n",
            "5    Bengalaru           24  False\n",
            "6   Coimbatore           35  False\n",
            "7    Srirangam           36  False\n",
            "8  Pondicherry           39   True\n"
          ]
        }
      ],
      "source": [
        "# print d3\n",
        "print(d3)\n"
      ],
      "id": "0hd7QjComYBU"
    },
    {
      "cell_type": "markdown",
      "metadata": {
        "id": "z88YETlMmYBU"
      },
      "source": [
        "The temperatures mentioned in ‘Temperature’ column are mentioned in Celsius, we need another column which contains the same in Fahrenheit."
      ],
      "id": "z88YETlMmYBU"
    },
    {
      "cell_type": "markdown",
      "metadata": {
        "id": "ywp07m-xmYBU"
      },
      "source": [
        "HINT -\n",
        "- Define a function c_to_f which takes input temp in celsius and returns a value with temperature in Fahrenheit.\n",
        "- To check: c_to_f(10) should return 50.\n"
      ],
      "id": "ywp07m-xmYBU"
    },
    {
      "cell_type": "code",
      "execution_count": 36,
      "metadata": {
        "id": "V0x_0IAAmYBV"
      },
      "outputs": [],
      "source": [
        "# write function here\n",
        "# Function to convert Celsius to Fahrenheit\n",
        "def c_to_f(celsius):\n",
        "    return (celsius * 9/5) + 32\n",
        "\n",
        "\n",
        "\n",
        "\n",
        "\n"
      ],
      "id": "V0x_0IAAmYBV"
    },
    {
      "cell_type": "code",
      "execution_count": 37,
      "metadata": {
        "id": "Wc9meranmYBV",
        "colab": {
          "base_uri": "https://localhost:8080/"
        },
        "outputId": "bdf64f7b-88c7-4480-84ce-11795269e8f9"
      },
      "outputs": [
        {
          "output_type": "stream",
          "name": "stdout",
          "text": [
            "50.0\n"
          ]
        }
      ],
      "source": [
        "# Checking the function\n",
        "print(c_to_f(10))  # Expected output: 50\n",
        "\n",
        "\n",
        "\n"
      ],
      "id": "Wc9meranmYBV"
    },
    {
      "cell_type": "code",
      "execution_count": 38,
      "metadata": {
        "id": "H79GUcoImYBV",
        "colab": {
          "base_uri": "https://localhost:8080/"
        },
        "outputId": "81afced1-fb55-401e-860a-2972f104d834"
      },
      "outputs": [
        {
          "output_type": "stream",
          "name": "stdout",
          "text": [
            "          city  Temperature  is_ut  temp_fahrenheit\n",
            "0   Chandigarh           15   True             59.0\n",
            "1        Delhi           22   True             71.6\n",
            "2       Kanpur           20  False             68.0\n",
            "3      Chennai           26  False             78.8\n",
            "4       Manali           -2  False             28.4\n",
            "5    Bengalaru           24  False             75.2\n",
            "6   Coimbatore           35  False             95.0\n",
            "7    Srirangam           36  False             96.8\n",
            "8  Pondicherry           39   True            102.2\n"
          ]
        }
      ],
      "source": [
        "# apply function c_to_f to d3 to create a column 'temp_farenhiet'\n",
        "\n",
        "# Applying c_to_f function to create a new column 'temp_fahrenheit'\n",
        "d3['temp_fahrenheit'] = d3['Temperature'].apply(c_to_f)\n",
        "\n",
        "# Printing the updated DataFrame\n",
        "print(d3)\n"
      ],
      "id": "H79GUcoImYBV"
    },
    {
      "cell_type": "markdown",
      "metadata": {
        "id": "Wj0p6JKHmYBV"
      },
      "source": [
        "## Indexing and selecting rows in DataFrame"
      ],
      "id": "Wj0p6JKHmYBV"
    },
    {
      "cell_type": "markdown",
      "metadata": {
        "id": "fFitRJy2mYBV"
      },
      "source": [
        "Select subset of the dataframe d1 such that it contains the cities which are union territories."
      ],
      "id": "fFitRJy2mYBV"
    },
    {
      "cell_type": "code",
      "execution_count": 47,
      "metadata": {
        "id": "Kg8OSVz0mYBV",
        "colab": {
          "base_uri": "https://localhost:8080/"
        },
        "outputId": "ca10044b-2ad2-4b06-a3a9-55fc57d9524b"
      },
      "outputs": [
        {
          "output_type": "stream",
          "name": "stdout",
          "text": [
            "         city  Temperature\n",
            "0  Chandigarh           15\n",
            "1       Delhi           22\n"
          ]
        }
      ],
      "source": [
        "\n",
        "ut_cities = ['Chandigarh', 'Pondicherry', 'Delhi']\n",
        "\n",
        "# Filtering d1 to include only union territories\n",
        "d1_ut = d1[d1['city'].isin(ut_cities)]\n",
        "\n",
        "# Printing the filtered DataFrame\n",
        "print(d1_ut)\n",
        "\n"
      ],
      "id": "Kg8OSVz0mYBV"
    },
    {
      "cell_type": "markdown",
      "metadata": {
        "id": "XnxQl4ZPmYBV"
      },
      "source": [
        "Select a subset of the dataframe d1 such that it contains the cities which only have temperature above 90 Farenhiet."
      ],
      "id": "XnxQl4ZPmYBV"
    },
    {
      "cell_type": "code",
      "execution_count": 48,
      "metadata": {
        "id": "9o62VSn7mYBV",
        "colab": {
          "base_uri": "https://localhost:8080/"
        },
        "outputId": "704ce34c-c91c-4a73-f542-0f96cb2721d6"
      },
      "outputs": [
        {
          "output_type": "stream",
          "name": "stdout",
          "text": [
            "Empty DataFrame\n",
            "Columns: [city, Temperature]\n",
            "Index: []\n"
          ]
        }
      ],
      "source": [
        "# Function to convert Celsius to Fahrenheit\n",
        "def c_to_f(celsius):\n",
        "    return (celsius * 9/5) + 32\n",
        "\n",
        "# Filtering cities with temperature > 90°F\n",
        "d1_hot = d1[d1['Temperature'].apply(c_to_f) > 90]\n",
        "\n",
        "# Printing the filtered DataFrame\n",
        "print(d1_hot)\n",
        "\n",
        "\n"
      ],
      "id": "9o62VSn7mYBV"
    },
    {
      "cell_type": "markdown",
      "metadata": {
        "id": "IQq7K2EtmYBW"
      },
      "source": [
        "Select only the first three rows of the dataframe d1.\n"
      ],
      "id": "IQq7K2EtmYBW"
    },
    {
      "cell_type": "code",
      "execution_count": 49,
      "metadata": {
        "id": "PlmVOyAAmYBW",
        "colab": {
          "base_uri": "https://localhost:8080/"
        },
        "outputId": "27fb3118-be46-4827-d96f-f8f3d63d570c"
      },
      "outputs": [
        {
          "output_type": "stream",
          "name": "stdout",
          "text": [
            "         city  Temperature\n",
            "0  Chandigarh           15\n",
            "1       Delhi           22\n",
            "2      Kanpur           20\n"
          ]
        }
      ],
      "source": [
        "# Selecting the first three rows\n",
        "d1_first_three = d1.iloc[:3]  # or d1.head(3)\n",
        "\n",
        "# Printing the result\n",
        "print(d1_first_three)"
      ],
      "id": "PlmVOyAAmYBW"
    },
    {
      "cell_type": "markdown",
      "metadata": {
        "id": "MKNIbwW2mYBW"
      },
      "source": [
        "Select all the rows and last two columns in the dataframe.\n",
        "\n",
        "\n"
      ],
      "id": "MKNIbwW2mYBW"
    },
    {
      "cell_type": "code",
      "execution_count": 50,
      "metadata": {
        "id": "WfQasVJImYBW",
        "colab": {
          "base_uri": "https://localhost:8080/"
        },
        "outputId": "25e8d710-5925-47af-eb0d-d52a8e21d92b"
      },
      "outputs": [
        {
          "output_type": "stream",
          "name": "stdout",
          "text": [
            "         city  Temperature\n",
            "0  Chandigarh           15\n",
            "1       Delhi           22\n",
            "2      Kanpur           20\n",
            "3     Chennai           26\n",
            "4      Manali           -2\n"
          ]
        }
      ],
      "source": [
        "# Selecting all rows and last two columns\n",
        "d1_last_two_cols = d1.iloc[:, -2:]\n",
        "\n",
        "# Printing the result\n",
        "print(d1_last_two_cols)"
      ],
      "id": "WfQasVJImYBW"
    },
    {
      "cell_type": "markdown",
      "metadata": {
        "id": "LQ9xspkHmYBW"
      },
      "source": [
        "## Groupby"
      ],
      "id": "LQ9xspkHmYBW"
    },
    {
      "cell_type": "code",
      "execution_count": 51,
      "metadata": {
        "id": "5VnCGYc8fjz3",
        "colab": {
          "base_uri": "https://localhost:8080/"
        },
        "outputId": "43872f6f-912f-4fad-a1b5-9449237046d6"
      },
      "outputs": [
        {
          "output_type": "stream",
          "name": "stdout",
          "text": [
            "      Name  Age         City  Score\n",
            "0    Alice   25     New York     85\n",
            "1      Bob   30  Los Angeles     90\n",
            "2  Charlie   35      Chicago     88\n",
            "3    David   40      Houston     76\n",
            "4      Eve   22        Miami     95\n"
          ]
        }
      ],
      "source": [
        "# Create a dataframe using dictionary of your choice\n",
        "data = {\n",
        "    'Name': ['Alice', 'Bob', 'Charlie', 'David', 'Eve'],\n",
        "    'Age': [25, 30, 35, 40, 22],\n",
        "    'City': ['New York', 'Los Angeles', 'Chicago', 'Houston', 'Miami'],\n",
        "    'Score': [85, 90, 88, 76, 95]\n",
        "}\n",
        "\n",
        "# Creating the DataFrame\n",
        "df = pd.DataFrame(data)\n",
        "\n",
        "# Printing the DataFrame\n",
        "print(df)\n",
        "\n",
        "\n"
      ],
      "id": "5VnCGYc8fjz3"
    },
    {
      "cell_type": "code",
      "execution_count": 52,
      "metadata": {
        "id": "UIRg0qJFfjz3",
        "colab": {
          "base_uri": "https://localhost:8080/"
        },
        "outputId": "e3c85681-dcff-4e7b-a76e-07a14d56a547"
      },
      "outputs": [
        {
          "output_type": "stream",
          "name": "stdout",
          "text": [
            "Department\n",
            "Finance    125000\n",
            "HR         157000\n",
            "IT         150000\n",
            "Name: Salary, dtype: int64\n"
          ]
        }
      ],
      "source": [
        "# Use Groupby of single column with aggregate sum()\n",
        "data = {\n",
        "    'Department': ['HR', 'IT', 'HR', 'IT', 'Finance', 'Finance', 'HR'],\n",
        "    'Salary': [50000, 70000, 55000, 80000, 60000, 65000, 52000]\n",
        "}\n",
        "\n",
        "df = pd.DataFrame(data)\n",
        "\n",
        "# Grouping by 'Department' and summing the 'Salary' column\n",
        "grouped_df = df.groupby('Department')['Salary'].sum()\n",
        "\n",
        "# Printing the result\n",
        "print(grouped_df)\n",
        "\n"
      ],
      "id": "UIRg0qJFfjz3"
    },
    {
      "cell_type": "code",
      "execution_count": 54,
      "metadata": {
        "id": "Tvk0seNxfjz4",
        "colab": {
          "base_uri": "https://localhost:8080/"
        },
        "outputId": "2a3aa460-d67a-4d06-b75f-6ea461455e44"
      },
      "outputs": [
        {
          "output_type": "stream",
          "name": "stdout",
          "text": [
            "Department\n",
            "Finance    2\n",
            "HR         3\n",
            "IT         2\n",
            "Name: Employee, dtype: int64\n"
          ]
        }
      ],
      "source": [
        "# Use Groupby of single column with aggregate count()\n",
        "data = {\n",
        "    'Department': ['HR', 'IT', 'HR', 'IT', 'Finance', 'Finance', 'HR'],\n",
        "    'Employee': ['Alice', 'Bob', 'Charlie', 'David', 'Eve', 'Frank', 'Grace']\n",
        "}\n",
        "\n",
        "df = pd.DataFrame(data)\n",
        "\n",
        "# Grouping by 'Department' and counting the number of employees\n",
        "grouped_df = df.groupby('Department')['Employee'].count()\n",
        "\n",
        "# Printing the result\n",
        "print(grouped_df)\n"
      ],
      "id": "Tvk0seNxfjz4"
    },
    {
      "cell_type": "code",
      "execution_count": 55,
      "metadata": {
        "id": "uVAIBx8Pfjz4",
        "colab": {
          "base_uri": "https://localhost:8080/"
        },
        "outputId": "ce84dd20-22a4-40af-9c43-472bdc544ab5"
      },
      "outputs": [
        {
          "output_type": "stream",
          "name": "stdout",
          "text": [
            "              min    max\n",
            "Department              \n",
            "Finance     60000  65000\n",
            "HR          50000  55000\n",
            "IT          70000  80000\n"
          ]
        }
      ],
      "source": [
        "# Use Groupby of single column with aggregate min() and max()\n",
        "data = {\n",
        "    'Department': ['HR', 'IT', 'HR', 'IT', 'Finance', 'Finance', 'HR'],\n",
        "    'Salary': [50000, 70000, 55000, 80000, 60000, 65000, 52000]\n",
        "}\n",
        "\n",
        "df = pd.DataFrame(data)\n",
        "\n",
        "# Grouping by 'Department' and applying min() and max()\n",
        "grouped_df = df.groupby('Department')['Salary'].agg(['min', 'max'])\n",
        "\n",
        "# Printing the result\n",
        "print(grouped_df)\n",
        "\n"
      ],
      "id": "uVAIBx8Pfjz4"
    },
    {
      "cell_type": "code",
      "execution_count": 56,
      "metadata": {
        "id": "zJK0iuhEfjz4",
        "colab": {
          "base_uri": "https://localhost:8080/"
        },
        "outputId": "cce057df-d32b-472c-ef3c-930150d08248"
      },
      "outputs": [
        {
          "output_type": "stream",
          "name": "stdout",
          "text": [
            "Department  Location\n",
            "Finance     CA          60000.000000\n",
            "            TX          64000.000000\n",
            "HR          NY          52333.333333\n",
            "IT          CA          72500.000000\n",
            "            TX          80000.000000\n",
            "Name: Salary, dtype: float64\n"
          ]
        }
      ],
      "source": [
        "# Use Groupby of any 2 columns with aggregate mean()\n",
        "# Sample DataFrame\n",
        "data = {\n",
        "    'Department': ['HR', 'IT', 'HR', 'IT', 'Finance', 'Finance', 'HR', 'IT', 'Finance'],\n",
        "    'Location': ['NY', 'CA', 'NY', 'TX', 'CA', 'TX', 'NY', 'CA', 'TX'],\n",
        "    'Salary': [50000, 70000, 55000, 80000, 60000, 65000, 52000, 75000, 63000]\n",
        "}\n",
        "\n",
        "df = pd.DataFrame(data)\n",
        "\n",
        "# Grouping by 'Department' and 'Location' and calculating the mean salary\n",
        "grouped_df = df.groupby(['Department', 'Location'])['Salary'].mean()\n",
        "\n",
        "# Printing the result\n",
        "print(grouped_df)\n",
        "\n"
      ],
      "id": "zJK0iuhEfjz4"
    },
    {
      "cell_type": "code",
      "execution_count": 57,
      "metadata": {
        "id": "K7m8ITiLfjz5",
        "colab": {
          "base_uri": "https://localhost:8080/"
        },
        "outputId": "8f610af2-0ec5-4a96-8d98-a9c8cbe9f5b5"
      },
      "outputs": [
        {
          "output_type": "stream",
          "name": "stdout",
          "text": [
            "                       min    max\n",
            "Department Location              \n",
            "Finance    CA        60000  60000\n",
            "           TX        63000  65000\n",
            "HR         NY        50000  55000\n",
            "IT         CA        70000  75000\n",
            "           TX        80000  80000\n"
          ]
        }
      ],
      "source": [
        "# Use Groupby of any 2 columns with aggregate min() and max()\n",
        "# Sample DataFrame\n",
        "data = {\n",
        "    'Department': ['HR', 'IT', 'HR', 'IT', 'Finance', 'Finance', 'HR', 'IT', 'Finance'],\n",
        "    'Location': ['NY', 'CA', 'NY', 'TX', 'CA', 'TX', 'NY', 'CA', 'TX'],\n",
        "    'Salary': [50000, 70000, 55000, 80000, 60000, 65000, 52000, 75000, 63000]\n",
        "}\n",
        "\n",
        "df = pd.DataFrame(data)\n",
        "\n",
        "# Grouping by 'Department' and 'Location' and applying min() and max()\n",
        "grouped_df = df.groupby(['Department', 'Location'])['Salary'].agg(['min', 'max'])\n",
        "\n",
        "# Printing the result\n",
        "print(grouped_df)\n",
        "\n"
      ],
      "id": "K7m8ITiLfjz5"
    },
    {
      "cell_type": "code",
      "execution_count": 44,
      "metadata": {
        "id": "YJa5ocRHfjz5"
      },
      "outputs": [],
      "source": [],
      "id": "YJa5ocRHfjz5"
    },
    {
      "cell_type": "markdown",
      "metadata": {
        "id": "goEgED0xmYBY"
      },
      "source": [
        "## Data Range"
      ],
      "id": "goEgED0xmYBY"
    },
    {
      "cell_type": "markdown",
      "metadata": {
        "id": "jJOxVdLemYBY"
      },
      "source": [
        "Create a pandas daterange where starting date is 1st of January,2020 and end date is 1st of April 2021, store it in a new variable named 'a'"
      ],
      "id": "jJOxVdLemYBY"
    },
    {
      "cell_type": "code",
      "execution_count": 59,
      "metadata": {
        "id": "Nvx8f5GTmYBZ"
      },
      "outputs": [],
      "source": [
        "# Creating a date range from Jan 1, 2020, to April 1, 2021\n",
        "a = pd.date_range(start='2020-01-01', end='2021-04-01', freq='D')\n",
        "\n",
        "\n",
        "\n"
      ],
      "id": "Nvx8f5GTmYBZ"
    },
    {
      "cell_type": "markdown",
      "metadata": {
        "id": "ybvAMVSzmYBZ"
      },
      "source": [
        "print a"
      ],
      "id": "ybvAMVSzmYBZ"
    },
    {
      "cell_type": "code",
      "execution_count": 60,
      "metadata": {
        "id": "TOe-Alj8mYBZ",
        "colab": {
          "base_uri": "https://localhost:8080/"
        },
        "outputId": "ca7d5ca8-ba99-4117-c5c6-84a6589dd871"
      },
      "outputs": [
        {
          "output_type": "stream",
          "name": "stdout",
          "text": [
            "DatetimeIndex(['2020-01-01', '2020-01-02', '2020-01-03', '2020-01-04',\n",
            "               '2020-01-05', '2020-01-06', '2020-01-07', '2020-01-08',\n",
            "               '2020-01-09', '2020-01-10',\n",
            "               ...\n",
            "               '2021-03-23', '2021-03-24', '2021-03-25', '2021-03-26',\n",
            "               '2021-03-27', '2021-03-28', '2021-03-29', '2021-03-30',\n",
            "               '2021-03-31', '2021-04-01'],\n",
            "              dtype='datetime64[ns]', length=457, freq='D')\n"
          ]
        }
      ],
      "source": [
        "# Printing the first few dates\n",
        "print(a)\n",
        "\n"
      ],
      "id": "TOe-Alj8mYBZ"
    },
    {
      "cell_type": "markdown",
      "metadata": {
        "id": "vI1gctGmmYBZ"
      },
      "source": [
        "What is the len of a?"
      ],
      "id": "vI1gctGmmYBZ"
    },
    {
      "cell_type": "code",
      "execution_count": 61,
      "metadata": {
        "id": "D66uR7vDmYBZ",
        "colab": {
          "base_uri": "https://localhost:8080/"
        },
        "outputId": "d42ed907-7300-4f05-e4d2-f8ce5c229144"
      },
      "outputs": [
        {
          "output_type": "stream",
          "name": "stdout",
          "text": [
            "457\n"
          ]
        }
      ],
      "source": [
        "print(len(a))\n",
        "\n"
      ],
      "id": "D66uR7vDmYBZ"
    },
    {
      "cell_type": "markdown",
      "metadata": {
        "id": "MQvcL-SImYBZ"
      },
      "source": [
        "What is the type of a?"
      ],
      "id": "MQvcL-SImYBZ"
    },
    {
      "cell_type": "code",
      "execution_count": 62,
      "metadata": {
        "id": "cnb8Z0CXmYBZ",
        "colab": {
          "base_uri": "https://localhost:8080/"
        },
        "outputId": "ad1d7112-70f3-45e2-b0c0-54c8830c34ef"
      },
      "outputs": [
        {
          "output_type": "stream",
          "name": "stdout",
          "text": [
            "<class 'pandas.core.indexes.datetimes.DatetimeIndex'>\n"
          ]
        }
      ],
      "source": [
        "\n",
        "print(type(a))\n",
        "\n"
      ],
      "id": "cnb8Z0CXmYBZ"
    },
    {
      "cell_type": "code",
      "execution_count": 45,
      "metadata": {
        "id": "P2gxjvo6fjz7"
      },
      "outputs": [],
      "source": [],
      "id": "P2gxjvo6fjz7"
    }
  ],
  "metadata": {
    "colab": {
      "provenance": [],
      "include_colab_link": true
    },
    "kernelspec": {
      "display_name": "Python 3",
      "language": "python",
      "name": "python3"
    },
    "language_info": {
      "codemirror_mode": {
        "name": "ipython",
        "version": 3
      },
      "file_extension": ".py",
      "mimetype": "text/x-python",
      "name": "python",
      "nbconvert_exporter": "python",
      "pygments_lexer": "ipython3",
      "version": "3.7.4"
    }
  },
  "nbformat": 4,
  "nbformat_minor": 5
}